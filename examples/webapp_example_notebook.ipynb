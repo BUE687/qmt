{
 "cells": [
  {
   "cell_type": "code",
   "execution_count": null,
   "metadata": {},
   "outputs": [],
   "source": [
    "import os\n",
    "import time\n",
    "import qmt\n",
    "import numpy as np"
   ]
  },
  {
   "cell_type": "markdown",
   "metadata": {},
   "source": [
    "## Simple webapp demo to show how offline playback of data works\n",
    "\n",
    "Except for the notebook-specific examples, this notebook shows the same examples as `webapp_example_script.py` but integrated in a Jupyter notebook.\n",
    "\n",
    "Note that in contrast to the example script, `quiet=True` is set to disable the debug messages. If there are problems, set `quiet` to `False`!\n",
    "\n",
    "The default `show` method does not work in notebooks. Instead, use `chromium` or `iframe`."
   ]
  },
  {
   "cell_type": "code",
   "execution_count": null,
   "metadata": {},
   "outputs": [],
   "source": [
    "# create some quaternion data for testing\n",
    "t = qmt.timeVec(T=10, Ts=0.01)\n",
    "axis = np.column_stack([np.cos(t), np.zeros_like(t), np.sin(t)])\n",
    "quat = qmt.quatFromAngleAxis(np.sin(t), axis)\n",
    "data = qmt.Struct(t=t, quat=quat)\n",
    "\n",
    "# run webapp\n",
    "webapp = qmt.Webapp('/view/imubox', data=data, show='chromium', quiet=True)\n",
    "webapp.run()"
   ]
  },
  {
   "cell_type": "markdown",
   "metadata": {},
   "source": [
    "## Jupyter Special: Show in iframe instead of window\n",
    "\n",
    "In Jupyter notebooks, webapps can be shown in an iframe instead of a separate window.\n",
    "\n",
    "**Important**: When using the iframe mode, in some cases the browser might show files from the cache instead of the current webapp. If in doubt, right click on the iframe and choose _This Frame > Reload Frame_."
   ]
  },
  {
   "cell_type": "code",
   "execution_count": null,
   "metadata": {
    "scrolled": true
   },
   "outputs": [],
   "source": [
    "# create some quaternion data for testing\n",
    "t = qmt.timeVec(T=10, Ts=0.01)\n",
    "axis = np.column_stack([np.cos(t), np.zeros_like(t), np.sin(t)])\n",
    "quat = qmt.quatFromAngleAxis(np.sin(t), axis)\n",
    "data = qmt.Struct(t=t, quat=quat)\n",
    "\n",
    "# run webapp\n",
    "webapp = qmt.Webapp('/view/imubox', data=data, show='iframe', quiet=True)\n",
    "webapp.iframeHeight=250\n",
    "webapp.run()"
   ]
  },
  {
   "cell_type": "markdown",
   "metadata": {},
   "source": [
    "## Jupyter Special: Update the data of the previous example"
   ]
  },
  {
   "cell_type": "code",
   "execution_count": null,
   "metadata": {},
   "outputs": [],
   "source": [
    "# generate data with a way faster movement and send it to the webapp\n",
    "t = qmt.timeVec(T=10, Ts=0.01)\n",
    "axis = np.column_stack([np.cos(10*t), np.zeros_like(t), np.sin(10*t)])\n",
    "quat = qmt.quatFromAngleAxis(np.sin(10*t), axis)\n",
    "data = qmt.Struct(t=t, quat=quat)\n",
    "webapp.data = data"
   ]
  },
  {
   "cell_type": "markdown",
   "metadata": {},
   "source": [
    "## Example of how to use a config\n",
    "\n",
    "By default, the /view/imubox webapp will detect all signals named \"quat\" or \"quat\" + one single letter, and\n",
    "visualize them (with the single letter painted on the box). It is also possible to define a custom config that will\n",
    "define which data is displayed."
   ]
  },
  {
   "cell_type": "code",
   "execution_count": null,
   "metadata": {},
   "outputs": [],
   "source": [
    "# create some quaternion data for testing\n",
    "t = qmt.timeVec(T=10, Ts=0.01)\n",
    "axis = np.column_stack([np.cos(t), np.zeros_like(t), np.sin(t)])\n",
    "quat = qmt.quatFromAngleAxis(np.sin(t), axis)\n",
    "quat2 = qmt.qinv(quat)\n",
    "data = qmt.Struct(t=t, quat1=quat, quat2=quat2)\n",
    "\n",
    "# This config tells the webapp how many IMU boxes to create and how the variables are called.\n",
    "# Furthermore, we show the first quaternion twice and use a different IMU coordinate system for the second copy A'\n",
    "# (x axis pointing forward instead of right). For the last IMU, we enable axis arrows.\n",
    "# Markers can be specified to annotate specific parts of the generated data in the playback timeline.\n",
    "config = {\n",
    "    'imus': [\n",
    "        {'signal': 'quat1', 'letter': 'A'},\n",
    "        {'signal': 'quat1', 'letter': 'A\\'', 'cs': 'FLU'},\n",
    "        {'signal': 'quat2', 'letter': 'B', 'axes': True},\n",
    "    ],\n",
    "    'markers': [{'pos': 4, 'end': 6, 'name': 'example for a range marker'}],\n",
    "}\n",
    "\n",
    "webapp = qmt.Webapp('/view/imubox', config=config, data=data, show='iframe', quiet=True)\n",
    "webapp.iframeHeight=250\n",
    "webapp.run()"
   ]
  },
  {
   "cell_type": "markdown",
   "metadata": {},
   "source": [
    "## Simple example for online data processing\n",
    "\n",
    "We use a ClockDataSource to generate samples at a fixed interval and create a simple Block class that does the\n",
    "    online data processing. The ClockDataSource generates samples that only contain the time, but we could also use\n",
    "    data sources that provide real-time measurement data from IMUs (e.g. via bluetooth)."
   ]
  },
  {
   "cell_type": "code",
   "execution_count": null,
   "metadata": {},
   "outputs": [],
   "source": [
    "class ExampleBlock(qmt.Block):\n",
    "    def step(self, inputs):\n",
    "        t = inputs['t']\n",
    "        axis = [np.cos(t), np.zeros_like(t), np.sin(t)]\n",
    "        quat = qmt.quatFromAngleAxis(np.sin(t), axis)\n",
    "        return {'t': t, 'quat': quat.flatten()}\n",
    "\n",
    "webapp = qmt.Webapp('/view/imubox', show='iframe', quiet=True)\n",
    "webapp.setupOnlineLoop(qmt.ClockDataSource(0.04), ExampleBlock())\n",
    "webapp.iframeHeight=180\n",
    "webapp.run()"
   ]
  },
  {
   "cell_type": "markdown",
   "metadata": {},
   "source": [
    "## Simple example for the dummy IMU data souce\n",
    "\n",
    "The DummyImuDataSource generates artificial IMU data. In this example, we just show the quaternions generated by\n",
    "the data source, but we could easily add a processing block (like in the example above) to perform custom data\n",
    "processing based on the gyroscope, accelerometer, and magnetometer measurements."
   ]
  },
  {
   "cell_type": "code",
   "execution_count": null,
   "metadata": {},
   "outputs": [],
   "source": [
    "webapp = qmt.Webapp('/view/imubox', show='iframe', quiet=True)\n",
    "webapp.setupOnlineLoop(qmt.DummyImuDataSource(0.04, 3))\n",
    "# We could also use qmt.dataSourceFromJson to dynamically create the data source from a JSON configuration string.\n",
    "# This can be used to allow for loading a data source that accesses real IMU data from external module, and define\n",
    "# this module and the necessary parameters via a command line argument.\n",
    "# webapp.setupOnlineLoop(qmt.dataSourceFromJson('{\"class\": \"qmt.DummyImuDataSource\", \"Ts\": 0.04, \"N\": 3}'))\n",
    "webapp.iframeHeight=180\n",
    "webapp.run()"
   ]
  },
  {
   "cell_type": "markdown",
   "metadata": {},
   "source": [
    "## Example of how to play back existing data from Python\n",
    "\n",
    "Unlike the previous offline examples, playback is handed on the Python side and only the current sample is\n",
    "transferred via the websocket. This is for example useful to replay experiments in order to create\n",
    "high quality videos.\n",
    "\n",
    "Note that we can also combine this with online data processing, e.g. to replay a file containing sensor data and\n",
    "processing it in real-time."
   ]
  },
  {
   "cell_type": "code",
   "execution_count": null,
   "metadata": {},
   "outputs": [],
   "source": [
    "# generate .mat file with data for playback\n",
    "t = qmt.timeVec(T=10, Ts=0.01)\n",
    "axis = np.column_stack([np.cos(t), np.zeros_like(t), np.sin(t)])\n",
    "quat = qmt.quatFromAngleAxis(np.sin(t), axis)\n",
    "quat2 = qmt.qinv(quat)\n",
    "data = qmt.Struct(t=t, quat1=quat, quat2=quat2)\n",
    "data.save('example_output/webapp_example_data.mat')\n",
    "\n",
    "config = {\n",
    "    'imus': [\n",
    "        {'signal': 'quat1', 'letter': 'A'},\n",
    "        {'signal': 'quat2', 'letter': 'B'},\n",
    "    ]\n",
    "}\n",
    "\n",
    "# let's also save the config to a file. this way, you can test the command line tool:\n",
    "# qmt-webapp /view/imubox -d example_output/webapp_example_data.mat -c example_output/webapp_example_config.mat\n",
    "qmt.Struct(config).save('example_output/webapp_example_config.mat')\n",
    "\n",
    "webapp = qmt.Webapp('/view/imubox', config=config, show='iframe', quiet=True)\n",
    "# Note that saving to a file is not necessary and we can just directly pass the data object.\n",
    "# We could also use qmt.PlaybackDataSource to control addtional parameters (e.g. looping).\n",
    "webapp.setupOnlineLoop('example_output/webapp_example_data.mat')\n",
    "webapp.iframeHeight=200\n",
    "webapp.run()"
   ]
  },
  {
   "cell_type": "markdown",
   "metadata": {},
   "source": [
    "## Example for interactive offline batch processing\n",
    "\n",
    "With the show_speed_slider option, we tell the visualisation to create a slider. Every time the value is changed,\n",
    "we recalculate the whole data and send the new data to the visualization."
   ]
  },
  {
   "cell_type": "code",
   "execution_count": null,
   "metadata": {},
   "outputs": [],
   "source": [
    "def processData(webapp, params):\n",
    "    speed = params['speed']\n",
    "    t = qmt.timeVec(T=10, Ts=0.01)\n",
    "    axis = np.column_stack([np.cos(speed*t), np.zeros_like(t), np.sin(speed*t)])\n",
    "    quat = qmt.quatFromAngleAxis(np.sin(speed*t), axis)\n",
    "    webapp.data = qmt.Struct(t=t, quat=quat)\n",
    "\n",
    "config = {'show_speed_slider': True}\n",
    "webapp = qmt.Webapp('/view/imubox', config=config, show='iframe', quiet=True)\n",
    "webapp.on('params', processData)\n",
    "webapp.iframeHeight=280\n",
    "webapp.run()"
   ]
  },
  {
   "cell_type": "markdown",
   "metadata": {},
   "source": [
    "## Example for interactive online processing\n",
    "\n",
    "With the show_speed_slider option, we tell the visualisation to create a slider. The setParam function of the\n",
    "processing block will automatically be called every time the slider value changes."
   ]
  },
  {
   "cell_type": "code",
   "execution_count": null,
   "metadata": {},
   "outputs": [],
   "source": [
    "class ExampleBlock(qmt.Block):\n",
    "    def __init__(self):\n",
    "        super().__init__()\n",
    "        self.params['speed'] = 1.0\n",
    "\n",
    "    def step(self, sample):\n",
    "        t = sample['t']\n",
    "        speed = self.params['speed']\n",
    "        axis = [np.cos(speed*t), 0, np.sin(speed*t)]\n",
    "        quat = qmt.quatFromAngleAxis(np.sin(speed * t), axis)\n",
    "        return {'t': t, 'quat': quat}\n",
    "\n",
    "config = {'show_speed_slider': True}\n",
    "webapp = qmt.Webapp('/view/imubox', config=config, show='iframe', quiet=True)\n",
    "webapp.setupOnlineLoop(qmt.ClockDataSource(0.04), ExampleBlock())\n",
    "webapp.iframeHeight=230\n",
    "webapp.run()"
   ]
  },
  {
   "cell_type": "markdown",
   "metadata": {},
   "source": [
    "## Example for interactive online processing in a separate process\n",
    "\n",
    "The function run is executed in a separate process via the ProcessDataSource and the multiprocessing package. The run function can use a qmt.ProcessDataSourceConnection object to communicate with the webapp. This makes it possible to integrate existing code that is written in a blocking way and does not function well in combination with async code."
   ]
  },
  {
   "cell_type": "code",
   "execution_count": null,
   "metadata": {},
   "outputs": [],
   "source": [
    "def run(conn, Ts):\n",
    "    t0 = time.monotonic()\n",
    "    N = 0\n",
    "    while True:\n",
    "        t = round(N*Ts, 9)\n",
    "        time.sleep(max(0, t0 + t - time.monotonic()))\n",
    "        N += 1\n",
    "\n",
    "        # receive parameters (and commands) from webapp\n",
    "        try:\n",
    "            speed = conn.getParams().get('speed', 1.0)\n",
    "            for command in conn.getCommands():\n",
    "                print('received command:', command)\n",
    "        except KeyboardInterrupt:\n",
    "            return  # stop process gracefully\n",
    "\n",
    "        # calculate and send sample\n",
    "        axis = [np.cos(speed * t), 0, np.sin(speed * t)]\n",
    "        quat = qmt.quatFromAngleAxis(np.sin(speed * t), axis)\n",
    "        conn.sendSample({'t': t, 'quat': quat})\n",
    "\n",
    "config = {'show_speed_slider': True, 'imus': [{'signal': 'quat'}]}\n",
    "webapp = qmt.Webapp('/view/imubox', config=config, show='iframe', quiet=True)\n",
    "webapp.setupOnlineLoop(qmt.ProcessDataSource(run, 0.04))\n",
    "webapp.iframeHeight=230\n",
    "webapp.run()"
   ]
  }
 ],
 "metadata": {
  "kernelspec": {
   "display_name": "Python 3",
   "language": "python",
   "name": "python3"
  },
  "language_info": {
   "codemirror_mode": {
    "name": "ipython",
    "version": 3
   },
   "file_extension": ".py",
   "mimetype": "text/x-python",
   "name": "python",
   "nbconvert_exporter": "python",
   "pygments_lexer": "ipython3",
   "version": "3.9.7"
  }
 },
 "nbformat": 4,
 "nbformat_minor": 2
}
